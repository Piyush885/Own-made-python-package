{
 "cells": [
  {
   "cell_type": "code",
   "execution_count": 1,
   "id": "61ab4c68",
   "metadata": {},
   "outputs": [],
   "source": [
    "import math\n",
    "import matplotlib.pyplot as plt"
   ]
  },
  {
   "cell_type": "code",
   "execution_count": 2,
   "id": "4e90b9ba",
   "metadata": {},
   "outputs": [],
   "source": [
    "class Gaussian():\n",
    "    # Attributes-- mean, standard deviation, data.\n",
    "    # Methods\n",
    "    def __init__(self,mu=0,sigma = 1):\n",
    "        self.mean = mu\n",
    "        self.stdev = sigma\n",
    "        self.data = []\n",
    "        \n",
    "    def calculate_mean(self):\n",
    "        avg = 1.0 * sum(self.data) / len(self.data)\n",
    "        self.mean = avg\n",
    "        return self.mean\n",
    "    def calculate_stdev(self,sample = True):\n",
    "        if sample:\n",
    "            n = len(self.data) - 1\n",
    "        else:\n",
    "            n = len(self.data)\n",
    "    \n",
    "        mean = self.mean\n",
    "    \n",
    "        sigma = 0\n",
    "    \n",
    "        for d in self.data:\n",
    "            sigma += (d - mean) ** 2\n",
    "        \n",
    "        sigma = math.sqrt(sigma / n)\n",
    "    \n",
    "        self.stdev = sigma\n",
    "        \n",
    "        return self.stdev\n",
    "    def read_data_file(self,file_name,sample=True):\n",
    "        with open(file_name) as file:\n",
    "            data_list = []\n",
    "            line = file.readline()\n",
    "            while line:\n",
    "                data_list.append(int(line))\n",
    "                line = file.readline()\n",
    "        file.close()        \n",
    "        self.data = data_list\n",
    "        self.mean = self.calculate_mean()\n",
    "        self.stdev = self.calculate_stdev(sample)\n",
    "        \n",
    "    def plot_histogram(self):\n",
    "        plt.hist(self.data)\n",
    "        plt.title('Histogram on data')\n",
    "        plt.xlabel('data')\n",
    "        plt.ylabel('count')\n",
    "    \n",
    "    def pdf(self,x):\n",
    "        return (1.0 / (self.stdev * math.sqrt(2*math.pi))) * math.exp(-0.5*((x - self.mean) / self.stdev) ** 2)\n",
    "    # Method Overriding----\n",
    "    def __add__(self,other):\n",
    "        result = Gaussian()\n",
    "        result.mean = self.mean + other.mean\n",
    "        result.stdev = math.sqrt(self.stdev ** 2 + other.stdev ** 2)\n",
    "        return result\n",
    "\n",
    "\n",
    "        \n",
    "        \n",
    "        "
   ]
  },
  {
   "cell_type": "code",
   "execution_count": 3,
   "id": "2ccbfa0b",
   "metadata": {},
   "outputs": [],
   "source": [
    "gaussian = Gaussian()"
   ]
  },
  {
   "cell_type": "code",
   "execution_count": 4,
   "id": "f7827d3d",
   "metadata": {},
   "outputs": [],
   "source": [
    "gaussian.read_data_file('samples.txt')"
   ]
  },
  {
   "cell_type": "code",
   "execution_count": 5,
   "id": "25ea5ef8",
   "metadata": {},
   "outputs": [
    {
     "data": {
      "text/plain": [
       "5.5"
      ]
     },
     "execution_count": 5,
     "metadata": {},
     "output_type": "execute_result"
    }
   ],
   "source": [
    "gaussian.mean"
   ]
  },
  {
   "cell_type": "code",
   "execution_count": 6,
   "id": "ac0e76e1",
   "metadata": {},
   "outputs": [
    {
     "data": {
      "text/plain": [
       "<bound method Gaussian.calculate_mean of <__main__.Gaussian object at 0x000001E4869F3100>>"
      ]
     },
     "execution_count": 6,
     "metadata": {},
     "output_type": "execute_result"
    }
   ],
   "source": [
    "gaussian.calculate_mean"
   ]
  },
  {
   "cell_type": "code",
   "execution_count": 7,
   "id": "625589c8",
   "metadata": {},
   "outputs": [
    {
     "data": {
      "text/plain": [
       "3.0276503540974917"
      ]
     },
     "execution_count": 7,
     "metadata": {},
     "output_type": "execute_result"
    }
   ],
   "source": [
    "gaussian.stdev"
   ]
  },
  {
   "cell_type": "code",
   "execution_count": 8,
   "id": "7df0c650",
   "metadata": {},
   "outputs": [
    {
     "data": {
      "text/plain": [
       "3.0276503540974917"
      ]
     },
     "execution_count": 8,
     "metadata": {},
     "output_type": "execute_result"
    }
   ],
   "source": [
    "gaussian.calculate_stdev()"
   ]
  },
  {
   "cell_type": "code",
   "execution_count": 9,
   "id": "4ecab50a",
   "metadata": {},
   "outputs": [],
   "source": [
    "gaussian2 = Gaussian()"
   ]
  },
  {
   "cell_type": "code",
   "execution_count": 10,
   "id": "b0ce63d8",
   "metadata": {},
   "outputs": [
    {
     "data": {
      "text/plain": [
       "<__main__.Gaussian at 0x1e4869f2170>"
      ]
     },
     "execution_count": 10,
     "metadata": {},
     "output_type": "execute_result"
    }
   ],
   "source": [
    "Gaussian.__add__(gaussian,gaussian2)"
   ]
  },
  {
   "cell_type": "code",
   "execution_count": 11,
   "id": "480edce1",
   "metadata": {},
   "outputs": [],
   "source": [
    "g1 = Gaussian()\n",
    "g2 = Gaussian()"
   ]
  },
  {
   "cell_type": "code",
   "execution_count": 13,
   "id": "e7a27dbc",
   "metadata": {},
   "outputs": [],
   "source": [
    "result = g1+g2"
   ]
  },
  {
   "cell_type": "code",
   "execution_count": 15,
   "id": "9cd516a0",
   "metadata": {},
   "outputs": [
    {
     "data": {
      "text/plain": [
       "0"
      ]
     },
     "execution_count": 15,
     "metadata": {},
     "output_type": "execute_result"
    }
   ],
   "source": [
    "result.mean"
   ]
  },
  {
   "cell_type": "code",
   "execution_count": 16,
   "id": "147a0d01",
   "metadata": {},
   "outputs": [
    {
     "data": {
      "text/plain": [
       "1.4142135623730951"
      ]
     },
     "execution_count": 16,
     "metadata": {},
     "output_type": "execute_result"
    }
   ],
   "source": [
    "result.stdev"
   ]
  },
  {
   "cell_type": "code",
   "execution_count": 17,
   "id": "4b36dd2c",
   "metadata": {},
   "outputs": [],
   "source": [
    "g3 = Gaussian(3,10)"
   ]
  },
  {
   "cell_type": "code",
   "execution_count": 18,
   "id": "dd186bfc",
   "metadata": {},
   "outputs": [],
   "source": [
    "g4 = Gaussian(4,20)"
   ]
  },
  {
   "cell_type": "code",
   "execution_count": 20,
   "id": "189ae52e",
   "metadata": {},
   "outputs": [],
   "source": [
    "result2 = g3+g4"
   ]
  },
  {
   "cell_type": "code",
   "execution_count": 21,
   "id": "ae1dda99",
   "metadata": {},
   "outputs": [
    {
     "data": {
      "text/plain": [
       "7"
      ]
     },
     "execution_count": 21,
     "metadata": {},
     "output_type": "execute_result"
    }
   ],
   "source": [
    "result2.mean"
   ]
  },
  {
   "cell_type": "code",
   "execution_count": 22,
   "id": "ec4548ac",
   "metadata": {},
   "outputs": [
    {
     "data": {
      "text/plain": [
       "22.360679774997898"
      ]
     },
     "execution_count": 22,
     "metadata": {},
     "output_type": "execute_result"
    }
   ],
   "source": [
    "result2.stdev"
   ]
  },
  {
   "cell_type": "code",
   "execution_count": null,
   "id": "3cecd4e2",
   "metadata": {},
   "outputs": [],
   "source": []
  }
 ],
 "metadata": {
  "kernelspec": {
   "display_name": "Python 3 (ipykernel)",
   "language": "python",
   "name": "python3"
  },
  "language_info": {
   "codemirror_mode": {
    "name": "ipython",
    "version": 3
   },
   "file_extension": ".py",
   "mimetype": "text/x-python",
   "name": "python",
   "nbconvert_exporter": "python",
   "pygments_lexer": "ipython3",
   "version": "3.10.0"
  }
 },
 "nbformat": 4,
 "nbformat_minor": 5
}
